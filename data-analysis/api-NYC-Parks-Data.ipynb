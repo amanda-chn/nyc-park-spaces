{
 "cells": [
  {
   "cell_type": "markdown",
   "id": "2ce62cf5",
   "metadata": {},
   "source": [
    "# This data is from NYC Open Data on NYC Parks\n",
    "## We will be analyzing park space in NYC boroughs\n",
    "\n",
    "Data source: https://nycopendata.socrata.com/Recreation/Parks-Properties/enfh-gkve\n",
    "\n",
    "API documentation: https://dev.socrata.com/foundry/data.cityofnewyork.us/enfh-gkve\n",
    "\n"
   ]
  },
  {
   "cell_type": "code",
   "execution_count": 1,
   "id": "e6e75526",
   "metadata": {},
   "outputs": [],
   "source": [
    "import requests"
   ]
  },
  {
   "cell_type": "code",
   "execution_count": 31,
   "id": "8719f99e",
   "metadata": {},
   "outputs": [],
   "source": [
    "url = \"https://data.cityofnewyork.us/resource/enfh-gkve.json\"\n",
    "url_response = requests.get(url)\n",
    "nyc_park_data = url_response.json()\n",
    "    "
   ]
  },
  {
   "cell_type": "code",
   "execution_count": 32,
   "id": "ca5d4350",
   "metadata": {},
   "outputs": [],
   "source": [
    "for parks in nyc_park_data:\n",
    "    sign_names = parks['signname']\n",
    "    #name_311 = parks['name311']\n",
    "    park_acres = float(parks['acres'])\n",
    "    park_borough = parks['borough']\n",
    "    park_type = parks['typecategory']\n",
    "    park_class = parks['class']\n",
    "    #print(park_acres)\n",
    "    "
   ]
  },
  {
   "cell_type": "code",
   "execution_count": 33,
   "id": "0230a657",
   "metadata": {},
   "outputs": [
    {
     "name": "stdout",
     "output_type": "stream",
     "text": [
      "1000\n"
     ]
    }
   ],
   "source": [
    "parks_count = 0\n",
    "\n",
    "for parks in nyc_park_data:\n",
    "    park_class = parks['class']\n",
    "    parks_count = parks_count + 1\n",
    "    \n",
    "print(parks_count)"
   ]
  },
  {
   "cell_type": "code",
   "execution_count": 34,
   "id": "1479f890",
   "metadata": {},
   "outputs": [],
   "source": [
    "#from https://en.wikipedia.org/wiki/Boroughs_of_New_York_City\n",
    "queens_acres = 69760\n",
    "brooklyn_acres = 45325\n",
    "manhattan_acres = 14611\n",
    "bronx_acres = 26880\n",
    "staten_island_acres = 37440\n",
    "nyc_total_acres = queens_acres + brooklyn_acres + manhattan_acres + staten_island_acres + bronx_acres"
   ]
  },
  {
   "cell_type": "code",
   "execution_count": 35,
   "id": "ec1613d2",
   "metadata": {},
   "outputs": [
    {
     "name": "stdout",
     "output_type": "stream",
     "text": [
      "There are 846.3519999999999 acres of parkland in Manhattan\n",
      "There are 185 parks in Manhattan\n",
      "Manhattan is 5.79% park\n"
     ]
    }
   ],
   "source": [
    "#Manhattan park %\n",
    "#number of parks in manhattan is not lining up with full csv download. \n",
    "manhattan_park_acres = 0\n",
    "manhattan_parks = 0\n",
    "\n",
    "for parks in nyc_park_data:\n",
    "    park_borough = parks['borough']\n",
    "    sign_names = parks['signname']\n",
    "    park_acres = float(parks['acres'])\n",
    "    if park_borough == \"M\":\n",
    "        manhattan_parks = manhattan_parks + 1\n",
    "        manhattan_park_acres = manhattan_park_acres + park_acres\n",
    "print(f'There are {manhattan_park_acres} acres of parkland in Manhattan')\n",
    "print(f'There are {manhattan_parks} parks in Manhattan')\n",
    "\n",
    "\n",
    "manhattan_park_percentage = (manhattan_park_acres/manhattan_acres) * 100\n",
    "print(f'Manhattan is {manhattan_park_percentage:.02F}% park')"
   ]
  },
  {
   "cell_type": "code",
   "execution_count": null,
   "id": "eed7ca3f",
   "metadata": {},
   "outputs": [],
   "source": []
  },
  {
   "cell_type": "code",
   "execution_count": null,
   "id": "e41961c2",
   "metadata": {},
   "outputs": [],
   "source": []
  }
 ],
 "metadata": {
  "kernelspec": {
   "display_name": "Python 3 (ipykernel)",
   "language": "python",
   "name": "python3"
  },
  "language_info": {
   "codemirror_mode": {
    "name": "ipython",
    "version": 3
   },
   "file_extension": ".py",
   "mimetype": "text/x-python",
   "name": "python",
   "nbconvert_exporter": "python",
   "pygments_lexer": "ipython3",
   "version": "3.10.3"
  }
 },
 "nbformat": 4,
 "nbformat_minor": 5
}
