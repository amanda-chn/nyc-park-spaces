{
 "cells": [
  {
   "cell_type": "code",
   "execution_count": 21,
   "id": "f0286dae",
   "metadata": {},
   "outputs": [],
   "source": [
    "import pandas as pd"
   ]
  },
  {
   "cell_type": "code",
   "execution_count": 22,
   "id": "d425a663",
   "metadata": {},
   "outputs": [],
   "source": [
    "df = pd.read_csv(\"Parks_Data.csv\")"
   ]
  },
  {
   "cell_type": "code",
   "execution_count": 23,
   "id": "8f1a7e2f",
   "metadata": {},
   "outputs": [],
   "source": [
    "acres_sum = df.ACRES.sum()"
   ]
  },
  {
   "cell_type": "code",
   "execution_count": 24,
   "id": "aec2004d",
   "metadata": {},
   "outputs": [],
   "source": [
    "#from https://en.wikipedia.org/wiki/Boroughs_of_New_York_City\n",
    "queens_acres = 69760\n",
    "brooklyn_acres = 45325\n",
    "manhattan_acres = 14611\n",
    "bronx_acres = 26880\n",
    "staten_island_acres = 37440\n",
    "nyc_total_acres = queens_acres + brooklyn_acres + manhattan_acres + staten_island_acres + bronx_acres"
   ]
  },
  {
   "cell_type": "code",
   "execution_count": 25,
   "id": "e6935156",
   "metadata": {},
   "outputs": [],
   "source": [
    "percent_parks = (acres_sum / nyc_acres_total) * 100"
   ]
  },
  {
   "cell_type": "code",
   "execution_count": 26,
   "id": "f1e6a206",
   "metadata": {},
   "outputs": [
    {
     "name": "stdout",
     "output_type": "stream",
     "text": [
      "16.041826595251866\n"
     ]
    }
   ],
   "source": [
    "print(percent_parks)"
   ]
  },
  {
   "cell_type": "code",
   "execution_count": 35,
   "id": "fe9aeaa8",
   "metadata": {},
   "outputs": [
    {
     "data": {
      "text/html": [
       "<div>\n",
       "<style scoped>\n",
       "    .dataframe tbody tr th:only-of-type {\n",
       "        vertical-align: middle;\n",
       "    }\n",
       "\n",
       "    .dataframe tbody tr th {\n",
       "        vertical-align: top;\n",
       "    }\n",
       "\n",
       "    .dataframe thead th {\n",
       "        text-align: right;\n",
       "    }\n",
       "</style>\n",
       "<table border=\"1\" class=\"dataframe\">\n",
       "  <thead>\n",
       "    <tr style=\"text-align: right;\">\n",
       "      <th></th>\n",
       "      <th>ACQUISITIONDATE</th>\n",
       "      <th>ACRES</th>\n",
       "      <th>ADDRESS</th>\n",
       "      <th>BOROUGH</th>\n",
       "      <th>NAME311</th>\n",
       "      <th>SIGNNAME</th>\n",
       "      <th>SUBCATEGORY</th>\n",
       "      <th>TYPECATEGORY</th>\n",
       "      <th>ZIPCODE</th>\n",
       "      <th>LOCATION</th>\n",
       "    </tr>\n",
       "  </thead>\n",
       "  <tbody>\n",
       "    <tr>\n",
       "      <th>0</th>\n",
       "      <td>11/20/02</td>\n",
       "      <td>0.046</td>\n",
       "      <td>NaN</td>\n",
       "      <td>Manhattan</td>\n",
       "      <td>Bradhurst Gardens Association</td>\n",
       "      <td>Bradhurst Gardens Association</td>\n",
       "      <td>Bradhurst Gardens Association</td>\n",
       "      <td>Garden</td>\n",
       "      <td>10039.0</td>\n",
       "      <td>W. 152 St. and Fredrick Douglas Blvd.</td>\n",
       "    </tr>\n",
       "    <tr>\n",
       "      <th>1</th>\n",
       "      <td>1/15/68</td>\n",
       "      <td>2.391</td>\n",
       "      <td>658 DE KALB AVENUE</td>\n",
       "      <td>Brooklyn</td>\n",
       "      <td>Kosciuszko Pool</td>\n",
       "      <td>Kosciuszko Pool</td>\n",
       "      <td>Building</td>\n",
       "      <td>Buildings/Institutions</td>\n",
       "      <td>11216.0</td>\n",
       "      <td>Marcy Ave. between Kosciuszko St. and Dekalb Ave.</td>\n",
       "    </tr>\n",
       "    <tr>\n",
       "      <th>2</th>\n",
       "      <td>1/13/95</td>\n",
       "      <td>0.452</td>\n",
       "      <td>33-12 108 STREET</td>\n",
       "      <td>Queens</td>\n",
       "      <td>Louis Armstrong Community Center</td>\n",
       "      <td>Louis Armstrong Community Center</td>\n",
       "      <td>Building</td>\n",
       "      <td>Buildings/Institutions</td>\n",
       "      <td>11368.0</td>\n",
       "      <td>107 St., 108 St. bet. Northern Blvd. and 34 Ave.</td>\n",
       "    </tr>\n",
       "    <tr>\n",
       "      <th>3</th>\n",
       "      <td>1/19/70</td>\n",
       "      <td>0.817</td>\n",
       "      <td>32-23 99 STREET</td>\n",
       "      <td>Queens</td>\n",
       "      <td>Fisher Pool</td>\n",
       "      <td>Fisher Pool</td>\n",
       "      <td>Building</td>\n",
       "      <td>Buildings/Institutions</td>\n",
       "      <td>11369.0</td>\n",
       "      <td>32 Ave. bet. 99 St. and 100 St.</td>\n",
       "    </tr>\n",
       "    <tr>\n",
       "      <th>4</th>\n",
       "      <td>3/13/69</td>\n",
       "      <td>1.640</td>\n",
       "      <td>2435 1 AVENUE</td>\n",
       "      <td>Manhattan</td>\n",
       "      <td>Wagner Houses Pool</td>\n",
       "      <td>Wagner Houses Pool</td>\n",
       "      <td>Building</td>\n",
       "      <td>Community Park</td>\n",
       "      <td>10035.0</td>\n",
       "      <td>E. 124 St. bet. 1 Ave. and 2 Ave.</td>\n",
       "    </tr>\n",
       "    <tr>\n",
       "      <th>...</th>\n",
       "      <td>...</td>\n",
       "      <td>...</td>\n",
       "      <td>...</td>\n",
       "      <td>...</td>\n",
       "      <td>...</td>\n",
       "      <td>...</td>\n",
       "      <td>...</td>\n",
       "      <td>...</td>\n",
       "      <td>...</td>\n",
       "      <td>...</td>\n",
       "    </tr>\n",
       "    <tr>\n",
       "      <th>2024</th>\n",
       "      <td>11/20/02</td>\n",
       "      <td>0.037</td>\n",
       "      <td>2014 LA FONTAINE AVENUE</td>\n",
       "      <td>Bronx</td>\n",
       "      <td>Garden</td>\n",
       "      <td>United Gardens</td>\n",
       "      <td>NaN</td>\n",
       "      <td>Undeveloped</td>\n",
       "      <td>10457.0</td>\n",
       "      <td>La Fontaine Ave. bet. E. 178 St. and E. 179 St.</td>\n",
       "    </tr>\n",
       "    <tr>\n",
       "      <th>2025</th>\n",
       "      <td>12/6/16</td>\n",
       "      <td>2.734</td>\n",
       "      <td>NaN</td>\n",
       "      <td>Brooklyn</td>\n",
       "      <td>Park</td>\n",
       "      <td>Park</td>\n",
       "      <td>NaN</td>\n",
       "      <td>Undeveloped</td>\n",
       "      <td>11224.0</td>\n",
       "      <td>Coney Island Boardwalk bet. W. 16 St. and W. 1...</td>\n",
       "    </tr>\n",
       "    <tr>\n",
       "      <th>2026</th>\n",
       "      <td>11/28/18</td>\n",
       "      <td>2.250</td>\n",
       "      <td>NaN</td>\n",
       "      <td>Bronx</td>\n",
       "      <td>Park</td>\n",
       "      <td>Park</td>\n",
       "      <td>NaN</td>\n",
       "      <td>Undeveloped</td>\n",
       "      <td>10451.0</td>\n",
       "      <td>Exterior St. bet. E. 144 St. and E. 146 St.</td>\n",
       "    </tr>\n",
       "    <tr>\n",
       "      <th>2027</th>\n",
       "      <td>11/21/17</td>\n",
       "      <td>0.318</td>\n",
       "      <td>20-06 NAMEOKE AVENUE</td>\n",
       "      <td>Queens</td>\n",
       "      <td>Park</td>\n",
       "      <td>Park</td>\n",
       "      <td>NaN</td>\n",
       "      <td>Undeveloped</td>\n",
       "      <td>11691.0</td>\n",
       "      <td>Nameoke Ave. bet. Brunswick Ave. and Augustina...</td>\n",
       "    </tr>\n",
       "    <tr>\n",
       "      <th>2028</th>\n",
       "      <td>12/1/17</td>\n",
       "      <td>70.600</td>\n",
       "      <td>NaN</td>\n",
       "      <td>Staten Island</td>\n",
       "      <td>Arlington Marsh Park</td>\n",
       "      <td>Arlington Marsh Park</td>\n",
       "      <td>NaN</td>\n",
       "      <td>Undeveloped</td>\n",
       "      <td>10303.0</td>\n",
       "      <td>Richmond Terrace bet. Catherine Pl and Holland...</td>\n",
       "    </tr>\n",
       "  </tbody>\n",
       "</table>\n",
       "<p>2029 rows × 10 columns</p>\n",
       "</div>"
      ],
      "text/plain": [
       "     ACQUISITIONDATE   ACRES                  ADDRESS        BOROUGH  \\\n",
       "0           11/20/02   0.046                      NaN      Manhattan   \n",
       "1            1/15/68   2.391       658 DE KALB AVENUE       Brooklyn   \n",
       "2            1/13/95   0.452         33-12 108 STREET         Queens   \n",
       "3            1/19/70   0.817          32-23 99 STREET         Queens   \n",
       "4            3/13/69   1.640            2435 1 AVENUE      Manhattan   \n",
       "...              ...     ...                      ...            ...   \n",
       "2024        11/20/02   0.037  2014 LA FONTAINE AVENUE          Bronx   \n",
       "2025         12/6/16   2.734                      NaN       Brooklyn   \n",
       "2026        11/28/18   2.250                      NaN          Bronx   \n",
       "2027        11/21/17   0.318     20-06 NAMEOKE AVENUE         Queens   \n",
       "2028         12/1/17  70.600                      NaN  Staten Island   \n",
       "\n",
       "                               NAME311                          SIGNNAME  \\\n",
       "0        Bradhurst Gardens Association     Bradhurst Gardens Association   \n",
       "1                      Kosciuszko Pool                   Kosciuszko Pool   \n",
       "2     Louis Armstrong Community Center  Louis Armstrong Community Center   \n",
       "3                          Fisher Pool                       Fisher Pool   \n",
       "4                   Wagner Houses Pool                Wagner Houses Pool   \n",
       "...                                ...                               ...   \n",
       "2024                            Garden                    United Gardens   \n",
       "2025                              Park                              Park   \n",
       "2026                              Park                              Park   \n",
       "2027                              Park                              Park   \n",
       "2028              Arlington Marsh Park              Arlington Marsh Park   \n",
       "\n",
       "                        SUBCATEGORY            TYPECATEGORY  ZIPCODE  \\\n",
       "0     Bradhurst Gardens Association                  Garden  10039.0   \n",
       "1                          Building  Buildings/Institutions  11216.0   \n",
       "2                          Building  Buildings/Institutions  11368.0   \n",
       "3                          Building  Buildings/Institutions  11369.0   \n",
       "4                          Building          Community Park  10035.0   \n",
       "...                             ...                     ...      ...   \n",
       "2024                            NaN             Undeveloped  10457.0   \n",
       "2025                            NaN             Undeveloped  11224.0   \n",
       "2026                            NaN             Undeveloped  10451.0   \n",
       "2027                            NaN             Undeveloped  11691.0   \n",
       "2028                            NaN             Undeveloped  10303.0   \n",
       "\n",
       "                                               LOCATION  \n",
       "0                 W. 152 St. and Fredrick Douglas Blvd.  \n",
       "1     Marcy Ave. between Kosciuszko St. and Dekalb Ave.  \n",
       "2      107 St., 108 St. bet. Northern Blvd. and 34 Ave.  \n",
       "3                       32 Ave. bet. 99 St. and 100 St.  \n",
       "4                     E. 124 St. bet. 1 Ave. and 2 Ave.  \n",
       "...                                                 ...  \n",
       "2024    La Fontaine Ave. bet. E. 178 St. and E. 179 St.  \n",
       "2025  Coney Island Boardwalk bet. W. 16 St. and W. 1...  \n",
       "2026        Exterior St. bet. E. 144 St. and E. 146 St.  \n",
       "2027  Nameoke Ave. bet. Brunswick Ave. and Augustina...  \n",
       "2028  Richmond Terrace bet. Catherine Pl and Holland...  \n",
       "\n",
       "[2029 rows x 10 columns]"
      ]
     },
     "execution_count": 35,
     "metadata": {},
     "output_type": "execute_result"
    }
   ],
   "source": [
    "df"
   ]
  },
  {
   "cell_type": "code",
   "execution_count": 34,
   "id": "72f872b0",
   "metadata": {},
   "outputs": [],
   "source": [
    "df.BOROUGH = df.BOROUGH.replace({\n",
    "    \"M\": \"Manhattan\",\n",
    "    \"B\": \"Brooklyn\",\n",
    "    \"Q\": \"Queens\",\n",
    "    \"R\": \"Staten Island\",\n",
    "    \"X\": \"Bronx\"\n",
    "})"
   ]
  },
  {
   "cell_type": "code",
   "execution_count": 36,
   "id": "194be5da",
   "metadata": {},
   "outputs": [
    {
     "data": {
      "text/plain": [
       "Brooklyn         614\n",
       "Queens           476\n",
       "Bronx            393\n",
       "Manhattan        386\n",
       "Staten Island    160\n",
       "Name: BOROUGH, dtype: int64"
      ]
     },
     "execution_count": 36,
     "metadata": {},
     "output_type": "execute_result"
    }
   ],
   "source": [
    "df.BOROUGH.value_counts()"
   ]
  },
  {
   "cell_type": "code",
   "execution_count": 39,
   "id": "b8c6f683",
   "metadata": {},
   "outputs": [],
   "source": [
    "acres_parks_per_borough = df.groupby(by=\"BOROUGH\").ACRES.sum()\n"
   ]
  },
  {
   "cell_type": "code",
   "execution_count": 40,
   "id": "f10fce07",
   "metadata": {},
   "outputs": [
    {
     "data": {
      "text/plain": [
       "BOROUGH\n",
       "Bronx            7225.151366\n",
       "Brooklyn         4857.161000\n",
       "Manhattan        2872.167000\n",
       "Queens           8228.979834\n",
       "Staten Island    7664.075000\n",
       "Name: ACRES, dtype: float64"
      ]
     },
     "execution_count": 40,
     "metadata": {},
     "output_type": "execute_result"
    }
   ],
   "source": [
    "acres_parks_per_borough"
   ]
  },
  {
   "cell_type": "code",
   "execution_count": 51,
   "id": "ea939fb9",
   "metadata": {},
   "outputs": [],
   "source": [
    "df_usable = pd.read_csv(\"Parks_Data_Usable.csv\")"
   ]
  },
  {
   "cell_type": "code",
   "execution_count": 52,
   "id": "c2816372",
   "metadata": {},
   "outputs": [],
   "source": [
    "df.BOROUGH = df.BOROUGH.replace({\n",
    "    \"M\": \"Manhattan\",\n",
    "    \"B\": \"Brooklyn\",\n",
    "    \"Q\": \"Queens\",\n",
    "    \"R\": \"Staten Island\",\n",
    "    \"X\": \"Bronx\"\n",
    "})"
   ]
  },
  {
   "cell_type": "code",
   "execution_count": 54,
   "id": "a8da00db",
   "metadata": {},
   "outputs": [],
   "source": [
    "acres_usable_sum = df_usable.ACRES.sum()"
   ]
  },
  {
   "cell_type": "code",
   "execution_count": 55,
   "id": "cba89e4e",
   "metadata": {},
   "outputs": [],
   "source": [
    "percent_usable_parks = (acres_usable_sum / nyc_acres_total) * 100"
   ]
  },
  {
   "cell_type": "code",
   "execution_count": 56,
   "id": "479e27b4",
   "metadata": {},
   "outputs": [
    {
     "data": {
      "text/plain": [
       "13.011838732916821"
      ]
     },
     "execution_count": 56,
     "metadata": {},
     "output_type": "execute_result"
    }
   ],
   "source": [
    "percent_usable_parks"
   ]
  },
  {
   "cell_type": "code",
   "execution_count": 58,
   "id": "40be0358",
   "metadata": {},
   "outputs": [],
   "source": [
    "acres_usable_parks_per_borough = df_usable.groupby(by=\"BOROUGH\").ACRES.sum()\n"
   ]
  },
  {
   "cell_type": "code",
   "execution_count": 59,
   "id": "00385b2d",
   "metadata": {},
   "outputs": [
    {
     "data": {
      "text/plain": [
       "BOROUGH\n",
       "B    3786.763000\n",
       "M    2775.951000\n",
       "Q    6422.674854\n",
       "R    5693.170000\n",
       "X    6342.478366\n",
       "Name: ACRES, dtype: float64"
      ]
     },
     "execution_count": 59,
     "metadata": {},
     "output_type": "execute_result"
    }
   ],
   "source": [
    "acres_usable_parks_per_borough"
   ]
  },
  {
   "cell_type": "code",
   "execution_count": null,
   "id": "30df4a11",
   "metadata": {},
   "outputs": [],
   "source": []
  }
 ],
 "metadata": {
  "kernelspec": {
   "display_name": "Python 3 (ipykernel)",
   "language": "python",
   "name": "python3"
  },
  "language_info": {
   "codemirror_mode": {
    "name": "ipython",
    "version": 3
   },
   "file_extension": ".py",
   "mimetype": "text/x-python",
   "name": "python",
   "nbconvert_exporter": "python",
   "pygments_lexer": "ipython3",
   "version": "3.10.3"
  }
 },
 "nbformat": 4,
 "nbformat_minor": 5
}
